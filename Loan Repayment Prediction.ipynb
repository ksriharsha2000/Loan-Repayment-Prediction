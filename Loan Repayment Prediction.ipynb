{
 "cells": [
  {
   "cell_type": "code",
   "execution_count": 3,
   "metadata": {},
   "outputs": [],
   "source": [
    "import numpy as np\n",
    "import pandas as pd\n",
    "from sklearn.model_selection import train_test_split\n",
    "from sklearn.tree import DecisionTreeClassifier\n",
    "from sklearn.metrics import accuracy_score\n",
    "from sklearn import tree"
   ]
  },
  {
   "cell_type": "code",
   "execution_count": 4,
   "metadata": {},
   "outputs": [],
   "source": [
    "data=r'C:\\Users\\HARSHA\\Desktop\\loan_data_final.csv'\n",
    "balance_data=pd.read_csv(data,sep=',',header=0)"
   ]
  },
  {
   "cell_type": "code",
   "execution_count": 5,
   "metadata": {},
   "outputs": [
    {
     "name": "stdout",
     "output_type": "stream",
     "text": [
      "      credit.policy             purpose  int.rate  installment  \\\n",
      "0                 1  debt_consolidation    0.1189       829.10   \n",
      "1                 1           all_other    0.1071       228.22   \n",
      "2                 1  debt_consolidation    0.1357       366.86   \n",
      "3                 1  debt_consolidation    0.1008       162.34   \n",
      "4                 1           all_other    0.1426       102.92   \n",
      "5                 1           all_other    0.0788       125.13   \n",
      "6                 1  debt_consolidation    0.1496       194.02   \n",
      "7                 1           all_other    0.1114       131.22   \n",
      "8                 1           all_other    0.1134        87.19   \n",
      "9                 1  debt_consolidation    0.1221        84.12   \n",
      "10                1  debt_consolidation    0.1347       360.43   \n",
      "11                1  debt_consolidation    0.1324       253.58   \n",
      "12                1  debt_consolidation    0.0859       316.11   \n",
      "13                1      small_business    0.0714        92.82   \n",
      "14                1  debt_consolidation    0.0863       209.54   \n",
      "15                1           all_other    0.1103       327.53   \n",
      "16                1           all_other    0.1317        77.69   \n",
      "17                1           all_other    0.0894       476.58   \n",
      "18                1  debt_consolidation    0.1039       584.12   \n",
      "19                1           all_other    0.1513       173.65   \n",
      "20                1           all_other    0.0800       188.02   \n",
      "21                1           all_other    0.0863       474.42   \n",
      "22                1           all_other    0.1355       339.60   \n",
      "23                1           all_other    0.0788       484.85   \n",
      "24                1  debt_consolidation    0.1229       320.19   \n",
      "25                1           all_other    0.0901       159.03   \n",
      "26                1           all_other    0.0743       155.38   \n",
      "27                1  debt_consolidation    0.1375       255.43   \n",
      "28                1           all_other    0.0743       155.38   \n",
      "29                1           all_other    0.0743       155.38   \n",
      "...             ...                 ...       ...          ...   \n",
      "9548              0           all_other    0.1607        87.99   \n",
      "9549              0           all_other    0.2164       729.70   \n",
      "9550              0           all_other    0.1459       137.86   \n",
      "9551              0           all_other    0.1348       508.87   \n",
      "9552              0  debt_consolidation    0.1311       337.45   \n",
      "9553              0  debt_consolidation    0.1385       545.67   \n",
      "9554              0      small_business    0.1533       870.71   \n",
      "9555              0           all_other    0.1311       674.90   \n",
      "9556              0  debt_consolidation    0.1385       136.42   \n",
      "9557              0           all_other    0.1025       466.35   \n",
      "9558              0  debt_consolidation    0.1533       696.57   \n",
      "9559              0           all_other    0.1273       688.11   \n",
      "9560              0           all_other    0.1867       547.36   \n",
      "9561              0           all_other    0.0788       115.74   \n",
      "9562              0  debt_consolidation    0.1348       508.87   \n",
      "9563              0  debt_consolidation    0.1099       556.50   \n",
      "9564              0           all_other    0.1385       511.56   \n",
      "9565              0           all_other    0.1459       396.35   \n",
      "9566              0           all_other    0.2164       551.08   \n",
      "9567              0           all_other    0.1311       101.24   \n",
      "9568              0           all_other    0.1979        37.06   \n",
      "9569              0           all_other    0.1426       823.34   \n",
      "9570              0           all_other    0.1671       113.63   \n",
      "9571              0           all_other    0.1568       161.01   \n",
      "9572              0  debt_consolidation    0.1565        69.98   \n",
      "9573              0           all_other    0.1461       344.76   \n",
      "9574              0           all_other    0.1253       257.70   \n",
      "9575              0  debt_consolidation    0.1071        97.81   \n",
      "9576              0           all_other    0.1600       351.58   \n",
      "9577              0  debt_consolidation    0.1392       853.43   \n",
      "\n",
      "      log.annual.inc    dti  fico  days.with.cr.line  revol.bal  revol.util  \\\n",
      "0          11.350407  19.48   737        5639.958333      28854        52.1   \n",
      "1          11.082143  14.29   707        2760.000000      33623        76.7   \n",
      "2          10.373491  11.63   682        4710.000000       3511        25.6   \n",
      "3          11.350407   8.10   712        2699.958333      33667        73.2   \n",
      "4          11.299732  14.97   667        4066.000000       4740        39.5   \n",
      "5          11.904968  16.98   727        6120.041667      50807        51.0   \n",
      "6          10.714418   4.00   667        3180.041667       3839        76.8   \n",
      "7          11.002100  11.08   722        5116.000000      24220        68.6   \n",
      "8          11.407565  17.25   682        3989.000000      69909        51.1   \n",
      "9          10.203592  10.00   707        2730.041667       5630        23.0   \n",
      "10         10.434116  22.09   677        6713.041667      13846        71.0   \n",
      "11         11.835009   9.16   662        4298.000000       5122        18.2   \n",
      "12         10.933107  15.49   767        6519.958333       6068        16.7   \n",
      "13         11.512925   6.50   747        4384.000000       3021         4.8   \n",
      "14          9.487972   9.73   727        1559.958333       6282        44.6   \n",
      "15         10.738915  13.04   702        8159.958333       5394        53.4   \n",
      "16         10.522773   2.26   672        3895.958333       2211        88.4   \n",
      "17         11.608236   7.07   797        6510.958333       7586        52.7   \n",
      "18         10.491274   3.80   712        2760.000000       8311        59.8   \n",
      "19         11.002100   2.74   667        1126.958333        591        84.4   \n",
      "20         11.225243  16.08   772        4888.958333      29797        23.2   \n",
      "21         10.819778   2.59   797       11951.000000       5656        27.6   \n",
      "22         11.512925   7.94   662        1939.958333      21162        57.7   \n",
      "23         11.736069   7.05   782        5640.041667      16931        34.6   \n",
      "24         11.264464   8.80   672        3760.958333       4822        58.1   \n",
      "25         12.429216  10.00   712        1553.958333      14354        36.6   \n",
      "26         11.082143   0.28   802        4649.958333       1576         5.7   \n",
      "27          9.998798  14.29   662        1318.958333       4175        51.5   \n",
      "28         12.206073   0.28   772        4516.958333       3164        13.7   \n",
      "29         12.206073   3.72   812        6778.958333      85607         0.7   \n",
      "...              ...    ...   ...                ...        ...         ...   \n",
      "9548       10.778956  14.20   667        4080.000000       1530        36.4   \n",
      "9549       11.877569   8.63   667        8280.041667      55442        66.9   \n",
      "9550       10.085809   1.15   732        1230.041667        972        11.3   \n",
      "9551       11.736069  16.85   707        7440.041667     206877        92.5   \n",
      "9552       10.691945  23.62   702        3780.041667       6255        56.9   \n",
      "9553       11.775290  10.80   697        4110.000000     197716        74.9   \n",
      "9554       11.842229  16.16   707        4230.041667      56909        49.8   \n",
      "9555       12.292250   9.94   717        5730.041667      39576        27.7   \n",
      "9556       11.002100  18.18   677        3423.041667      15301        85.0   \n",
      "9557       12.206073  13.97   722        6120.041667     338935        78.3   \n",
      "9558       11.805595  17.21   682        2790.041667      38578        86.9   \n",
      "9559       11.314475  21.13   732        5881.000000      35227        54.3   \n",
      "9560       11.407565  15.76   667       10050.041670      13255        88.4   \n",
      "9561       10.999095  10.17   722        4410.000000      11586        61.6   \n",
      "9562       10.933107  17.76   717        3870.041667       8760        28.2   \n",
      "9563       11.225243  17.84   727        6840.041667      18753        29.0   \n",
      "9564       12.323856  12.33   687        6420.041667     385489        51.2   \n",
      "9565       10.308953  21.04   697        3390.000000      26117        78.4   \n",
      "9566       11.002100  24.06   662        1800.000000      16441        49.8   \n",
      "9567       10.968198   8.23   687        2790.041667       1514        13.8   \n",
      "9568       10.645425  22.17   667        5916.000000      28854        59.8   \n",
      "9569       12.429216   3.62   722        3239.958333      33575        83.9   \n",
      "9570       10.645425  28.06   672        3210.041667      25759        63.8   \n",
      "9571       11.225243   8.00   677        7230.000000       6909        29.2   \n",
      "9572       10.110472   7.02   662        8190.041667       2999        39.5   \n",
      "9573       12.180755  10.39   672       10474.000000     215372        82.1   \n",
      "9574       11.141862   0.21   722        4380.000000        184         1.1   \n",
      "9575       10.596635  13.09   687        3450.041667      10036        82.9   \n",
      "9576       10.819778  19.18   692        1800.000000          0         3.2   \n",
      "9577       11.264464  16.28   732        4740.000000      37879        57.0   \n",
      "\n",
      "      inq.last.6mths  delinq.2yrs  pub.rec  not.fully.paid  \n",
      "0                  0            0        0               0  \n",
      "1                  0            0        0               0  \n",
      "2                  1            0        0               0  \n",
      "3                  1            0        0               0  \n",
      "4                  0            1        0               0  \n",
      "5                  0            0        0               0  \n",
      "6                  0            0        1               1  \n",
      "7                  0            0        0               1  \n",
      "8                  1            0        0               0  \n",
      "9                  1            0        0               0  \n",
      "10                 2            0        1               0  \n",
      "11                 2            1        0               0  \n",
      "12                 0            0        0               0  \n",
      "13                 0            1        0               0  \n",
      "14                 0            0        0               0  \n",
      "15                 1            0        0               0  \n",
      "16                 0            0        0               0  \n",
      "17                 1            0        0               0  \n",
      "18                 0            0        0               0  \n",
      "19                 3            0        0               0  \n",
      "20                 1            0        0               0  \n",
      "21                 0            0        0               0  \n",
      "22                 0            0        0               0  \n",
      "23                 1            0        0               0  \n",
      "24                 0            0        1               0  \n",
      "25                 0            2        0               0  \n",
      "26                 1            0        0               0  \n",
      "27                 0            1        0               0  \n",
      "28                 0            0        0               0  \n",
      "29                 0            0        0               0  \n",
      "...              ...          ...      ...             ...  \n",
      "9548               7            0        0               1  \n",
      "9549               9            0        1               1  \n",
      "9550               5            0        0               0  \n",
      "9551               1            0        0               1  \n",
      "9552               5            2        0               0  \n",
      "9553               4            0        0               0  \n",
      "9554               5            0        0               0  \n",
      "9555               5            0        0               1  \n",
      "9556               4            0        0               0  \n",
      "9557               2            0        0               0  \n",
      "9558               4            0        0               0  \n",
      "9559               5            0        0               0  \n",
      "9560               7            0        0               0  \n",
      "9561               4            0        0               0  \n",
      "9562               6            0        0               0  \n",
      "9563               4            0        0               1  \n",
      "9564               4            0        0               0  \n",
      "9565               6            0        0               1  \n",
      "9566               9            0        0               1  \n",
      "9567               5            0        0               0  \n",
      "9568               6            0        1               0  \n",
      "9569               5            0        0               1  \n",
      "9570               5            0        0               1  \n",
      "9571               4            0        1               1  \n",
      "9572               6            0        0               1  \n",
      "9573               2            0        0               1  \n",
      "9574               5            0        0               1  \n",
      "9575               8            0        0               1  \n",
      "9576               5            0        0               1  \n",
      "9577               6            0        0               1  \n",
      "\n",
      "[9578 rows x 14 columns]\n"
     ]
    }
   ],
   "source": [
    "database_length=len(balance_data)\n",
    "print(balance_data)"
   ]
  },
  {
   "cell_type": "code",
   "execution_count": 6,
   "metadata": {},
   "outputs": [
    {
     "name": "stdout",
     "output_type": "stream",
     "text": [
      "(9578, 14)\n"
     ]
    }
   ],
   "source": [
    "balance_data_shape=balance_data.shape\n",
    "print(balance_data_shape)"
   ]
  },
  {
   "cell_type": "code",
   "execution_count": 17,
   "metadata": {},
   "outputs": [
    {
     "name": "stdout",
     "output_type": "stream",
     "text": [
      "      credit.policy             purpose  int.rate  installment  \\\n",
      "9573              0           all_other    0.1461       344.76   \n",
      "9574              0           all_other    0.1253       257.70   \n",
      "9575              0  debt_consolidation    0.1071        97.81   \n",
      "9576              0           all_other    0.1600       351.58   \n",
      "9577              0  debt_consolidation    0.1392       853.43   \n",
      "\n",
      "      log.annual.inc    dti  fico  days.with.cr.line  revol.bal  revol.util  \\\n",
      "9573       12.180755  10.39   672       10474.000000     215372        82.1   \n",
      "9574       11.141862   0.21   722        4380.000000        184         1.1   \n",
      "9575       10.596635  13.09   687        3450.041667      10036        82.9   \n",
      "9576       10.819778  19.18   692        1800.000000          0         3.2   \n",
      "9577       11.264464  16.28   732        4740.000000      37879        57.0   \n",
      "\n",
      "      inq.last.6mths  delinq.2yrs  pub.rec  not.fully.paid  \n",
      "9573               2            0        0               1  \n",
      "9574               5            0        0               1  \n",
      "9575               8            0        0               1  \n",
      "9576               5            0        0               1  \n",
      "9577               6            0        0               1  \n",
      "   credit.policy             purpose  int.rate  installment  log.annual.inc  \\\n",
      "0              1  debt_consolidation    0.1189       829.10       11.350407   \n",
      "1              1           all_other    0.1071       228.22       11.082143   \n",
      "2              1  debt_consolidation    0.1357       366.86       10.373491   \n",
      "3              1  debt_consolidation    0.1008       162.34       11.350407   \n",
      "4              1           all_other    0.1426       102.92       11.299732   \n",
      "\n",
      "     dti  fico  days.with.cr.line  revol.bal  revol.util  inq.last.6mths  \\\n",
      "0  19.48   737        5639.958333      28854        52.1               0   \n",
      "1  14.29   707        2760.000000      33623        76.7               0   \n",
      "2  11.63   682        4710.000000       3511        25.6               1   \n",
      "3   8.10   712        2699.958333      33667        73.2               1   \n",
      "4  14.97   667        4066.000000       4740        39.5               0   \n",
      "\n",
      "   delinq.2yrs  pub.rec  not.fully.paid  \n",
      "0            0        0               0  \n",
      "1            0        0               0  \n",
      "2            0        0               0  \n",
      "3            0        0               0  \n",
      "4            1        0               0  \n"
     ]
    }
   ],
   "source": [
    "#tail() gives the last 4 rows whereas head gives first four rows\n",
    "print(balance_data.tail())\n",
    "print(balance_data.head())"
   ]
  },
  {
   "cell_type": "code",
   "execution_count": 7,
   "metadata": {},
   "outputs": [
    {
     "data": {
      "text/plain": [
       "DecisionTreeClassifier(class_weight=None, criterion='entropy', max_depth=10,\n",
       "            max_features=None, max_leaf_nodes=None,\n",
       "            min_impurity_decrease=0.0, min_impurity_split=None,\n",
       "            min_samples_leaf=5, min_samples_split=2,\n",
       "            min_weight_fraction_leaf=0.0, presort=False, random_state=100,\n",
       "            splitter='best')"
      ]
     },
     "execution_count": 7,
     "metadata": {},
     "output_type": "execute_result"
    }
   ],
   "source": [
    "#Separating target variable\n",
    "X=balance_data.values[:,2:13]\n",
    "Y=balance_data.values[:,13]\n",
    "#Split into train and test\n",
    "x_train,x_test,y_train,y_test=train_test_split(X,Y,test_size=0.3,random_state=100)\n",
    "clf_entropy=DecisionTreeClassifier(criterion='entropy',random_state=100,max_depth=10, min_samples_leaf=5)\n",
    "#Your y is of type object, so sklearn cannot recognize its type. \n",
    "#Add the line y=y.astype('int') right after the line y = train[:, 1].\n",
    "y_train=y_train.astype(int)\n",
    "y_test=y_test.astype(int)\n",
    "clf_entropy.fit(x_train,y_train)"
   ]
  },
  {
   "cell_type": "code",
   "execution_count": 8,
   "metadata": {},
   "outputs": [
    {
     "data": {
      "text/plain": [
       "array([0, 1, 0, ..., 0, 0, 0])"
      ]
     },
     "execution_count": 8,
     "metadata": {},
     "output_type": "execute_result"
    }
   ],
   "source": [
    "y_predict=clf_entropy.predict(x_test)\n",
    "y_predict"
   ]
  },
  {
   "cell_type": "code",
   "execution_count": 48,
   "metadata": {},
   "outputs": [
    {
     "name": "stdout",
     "output_type": "stream",
     "text": [
      "Accuracy is  80.79331941544885\n"
     ]
    }
   ],
   "source": [
    "print(\"Accuracy is \",accuracy_score(y_test,y_predict)*100)"
   ]
  },
  {
   "cell_type": "code",
   "execution_count": 9,
   "metadata": {},
   "outputs": [
    {
     "data": {
      "text/plain": [
       "array([[0.1134, 230.3, 10.59663473, ..., 0, 0, 0],\n",
       "       [0.1114, 328.04, 10.30895266, ..., 3, 0, 0],\n",
       "       [0.1379, 306.68, 10.74720759, ..., 0, 0, 0],\n",
       "       ...,\n",
       "       [0.1425, 514.49, 10.77895629, ..., 0, 0, 0],\n",
       "       [0.0894, 476.58, 11.22524339, ..., 2, 0, 0],\n",
       "       [0.1474, 331.56, 10.91516119, ..., 2, 0, 0]], dtype=object)"
      ]
     },
     "execution_count": 9,
     "metadata": {},
     "output_type": "execute_result"
    }
   ],
   "source": [
    "x_test"
   ]
  },
  {
   "cell_type": "code",
   "execution_count": 10,
   "metadata": {},
   "outputs": [
    {
     "data": {
      "text/plain": [
       "array([0.1134, 230.3, 10.59663473, 9.81, 682, 3030.958333, 6475, 96.6, 0,\n",
       "       0, 0], dtype=object)"
      ]
     },
     "execution_count": 10,
     "metadata": {},
     "output_type": "execute_result"
    }
   ],
   "source": [
    "x_test[0]"
   ]
  },
  {
   "cell_type": "code",
   "execution_count": null,
   "metadata": {},
   "outputs": [],
   "source": []
  }
 ],
 "metadata": {
  "kernelspec": {
   "display_name": "Python 3",
   "language": "python",
   "name": "python3"
  },
  "language_info": {
   "codemirror_mode": {
    "name": "ipython",
    "version": 3
   },
   "file_extension": ".py",
   "mimetype": "text/x-python",
   "name": "python",
   "nbconvert_exporter": "python",
   "pygments_lexer": "ipython3",
   "version": "3.7.3"
  }
 },
 "nbformat": 4,
 "nbformat_minor": 2
}
